{
 "cells": [
  {
   "cell_type": "markdown",
   "metadata": {},
   "source": [
    "<div style=\"background: #000;\n",
    "            color: #FFF;\n",
    "            margin: 0px;\n",
    "                padding: 10px 0px 20px 0px;\n",
    "            text-align: center; \n",
    "                \">\n",
    "    <h1>Week 10 Project</h1>\n",
    "</div>"
   ]
  },
  {
   "cell_type": "markdown",
   "metadata": {},
   "source": [
    "For your final project, you will:\n",
    "* Scrape data of significance (will need approval) and clean it up.\n",
    "* Automate the process of storing it in your database. \n",
    "* Create a flask application that will make our database accessible from the web. Your flask views can return html or json depending on your preference.\n",
    "\n",
    "### First deliverable for your final project:\n",
    "Due next week (data tbd)\n",
    "* The script that scrapes your data and stores it in your database.\n",
    "* The git repo to store your work with the script included.\n"
   ]
  },
  {
   "cell_type": "code",
   "execution_count": 26,
   "metadata": {},
   "outputs": [],
   "source": [
    "\n",
    "\n",
    "\n"
   ]
  },
  {
   "cell_type": "code",
   "execution_count": 138,
   "metadata": {},
   "outputs": [
    {
     "name": "stdout",
     "output_type": "stream",
     "text": [
      "['Oklahoma', '580', '2625']\n",
      "['Wisconsin*', '221', '2542']\n",
      "['Vermont*', '225', '2357']\n",
      "['Iowa', '211', '2349']\n",
      "['Idaho', '458', '2160']\n",
      "['Arizona', '444', '2126']\n",
      "['Oregon', '366', '2061']\n",
      "['Montana', '316', '1985']\n",
      "['Colorado', '260', '1891']\n",
      "['Texas', '457', '1844']\n",
      "['Pennsylvania', '204', '1810']\n",
      "['California', '201', '1767']\n",
      "['Louisiana', '438', '1740']\n",
      "['Kansas', '246', '1734']\n",
      "['Michigan', '253', '1682']\n",
      "['Nebraska', '201', '1680']\n",
      "['Arkansas', '443', '1665']\n",
      "['Missouri', '404', '1654']\n",
      "['Ohio', '289', '1625']\n",
      "['Florida', '448', '1621']\n",
      "['Indiana', '339', '1616']\n",
      "['Nevada', '387', '1592']\n",
      "['Illinois', '174', '1533']\n",
      "['South Dakota', '309', '1493']\n",
      "['Utah', '202', '1481']\n",
      "['Alabama', '425', '1417']\n",
      "['Kentucky', '431', '1411']\n",
      "['State Average', '275', '1408']\n",
      "['Connecticut*', '148', '1392']\n",
      "['Virginia', '280', '1386']\n",
      "['New Mexico', '208', '1326']\n",
      "['Wyoming', '375', '1307']\n",
      "['Washington', '224', '1272']\n",
      "['Delaware*', '259', '1238']\n",
      "['West Virginia', '348', '1234']\n",
      "['Minnesota', '111', '1219']\n",
      "['Tennessee', '316', '1166']\n",
      "['New Jersey', '94', '1140']\n",
      "['Georgia', '329', '1066']\n",
      "['Alaska*', '278', '1053']\n",
      "['Mississippi*', '346', '1052']\n",
      "['New Hampshire', '202', '1040']\n",
      "['South Carolina', '238', '1030']\n",
      "['North Carolina', '221', '951']\n",
      "['Rhode Island*', '112', '934']\n",
      "['New York', '112', '896']\n",
      "['North Dakota*', '170', '888']\n",
      "['Maryland', '185', '862']\n",
      "['Maine*', '140', '839']\n",
      "['Massachusetts*', '81', '605']\n",
      "['Hawaii*', '246', '585']\n"
     ]
    }
   ],
   "source": [
    "from bs4 import BeautifulSoup\n",
    "import requests\n",
    "import csv    \n",
    "\n",
    "def free_tha_homies():\n",
    "    url = \"https://www.sentencingproject.org/publications/color-of-justice-racial-and-ethnic-disparity-in-state-prisons/\"\n",
    "    req = requests.get(url)\n",
    "    soup = BeautifulSoup(req.text)\n",
    "    incarceration_data = [['state','white_prisoners','Black_prisoners']]\n",
    "    first_table = soup.find('table')\n",
    "    rows = first_table.findAll('tr')\n",
    "    \n",
    "    for row in soup.select('tr')[1:]:\n",
    "        try:\n",
    "            states = list(row.select('td')[0].strings)\n",
    "            state = states[0]\n",
    "           \n",
    "            \n",
    "            white = list(row.select('td')[1].strings)[0]\n",
    "            states.append(white)\n",
    "            \n",
    "            black = list(row.select('td')[2].strings)[0]\n",
    "            states.append(black)\n",
    "            print(states)\n",
    "            \n",
    "            data = [state,white,black]\n",
    "            incarceration_data.append(data)\n",
    "            \n",
    "            #black_white_differential = black / white\n",
    "            #print (black_white_differential)\n",
    "        except IndexError:\n",
    "            break\n",
    "\n",
    "    return incarceration_data\n",
    "\n",
    "if __name__ == \"__main__\":\n",
    "        \n",
    "    with open('Elston Bell, Jr. Free_Tha_Homies.csv','w') as incarceration_data_file:\n",
    "        writefile = csv.writer(incarceration_data_file)\n",
    "        writefile.writerows(free_tha_homies())"
   ]
  },
  {
   "cell_type": "code",
   "execution_count": 20,
   "metadata": {},
   "outputs": [
    {
     "ename": "NameError",
     "evalue": "name 'r' is not defined",
     "output_type": "error",
     "traceback": [
      "\u001b[0;31m---------------------------------------------------------------------------\u001b[0m",
      "\u001b[0;31mNameError\u001b[0m                                 Traceback (most recent call last)",
      "\u001b[0;32m<ipython-input-20-606ae304fca2>\u001b[0m in \u001b[0;36m<module>\u001b[0;34m\u001b[0m\n\u001b[0;32m----> 1\u001b[0;31m \u001b[0mr\u001b[0m\u001b[0;34m.\u001b[0m\u001b[0mtext\u001b[0m\u001b[0;34m\u001b[0m\u001b[0;34m\u001b[0m\u001b[0m\n\u001b[0m",
      "\u001b[0;31mNameError\u001b[0m: name 'r' is not defined"
     ]
    }
   ],
   "source": [
    "#countries = list(soup.findAll('td')[0])\n",
    "\n",
    "\n",
    "#white = list(soup.findAll('td')[1])\n",
    "\n",
    "#black = list(soup.findAll('td')[2])\n",
    "\n",
    "#black_white_differential = black / white\n",
    "\n",
    "#print(countries)\n",
    "#print(white)\n",
    "#print(black)\n",
    "#print(black_white_differential)"
   ]
  },
  {
   "cell_type": "code",
   "execution_count": 88,
   "metadata": {},
   "outputs": [],
   "source": [
    "from bs4 import BeautifulSoup\n",
    "import requests\n",
    "#import csv\n",
    "\n",
    "def scrape_data():\n",
    "    url = \"https://en.wikipedia.org/wiki/Template:COVID-19_pandemic_data\"\n",
    "    req = requests.get(url)\n",
    "    soup = BeautifulSoup(req.text)\n",
    "    covid_data = [['country','cases','deaths','recoveries','death_rate','recovery_rate']]\n",
    "    for row in soup.select('tr')[2:]:\n",
    "            countries = list(row.select('th')[1].strings)\n",
    "            country = countries[0]\n",
    "            print(country)"
   ]
  },
  {
   "cell_type": "code",
   "execution_count": null,
   "metadata": {},
   "outputs": [],
   "source": []
  }
 ],
 "metadata": {
  "kernelspec": {
   "display_name": "Python 3",
   "language": "python",
   "name": "python3"
  },
  "language_info": {
   "codemirror_mode": {
    "name": "ipython",
    "version": 3
   },
   "file_extension": ".py",
   "mimetype": "text/x-python",
   "name": "python",
   "nbconvert_exporter": "python",
   "pygments_lexer": "ipython3",
   "version": "3.8.3"
  }
 },
 "nbformat": 4,
 "nbformat_minor": 4
}
